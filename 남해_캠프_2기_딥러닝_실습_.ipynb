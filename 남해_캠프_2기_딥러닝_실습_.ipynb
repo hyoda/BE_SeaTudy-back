{
  "nbformat": 4,
  "nbformat_minor": 0,
  "metadata": {
    "colab": {
      "provenance": [],
      "toc_visible": true,
      "include_colab_link": true
    },
    "kernelspec": {
      "name": "python3",
      "display_name": "Python 3"
    },
    "language_info": {
      "name": "python"
    }
  },
  "cells": [
    {
      "cell_type": "markdown",
      "metadata": {
        "id": "view-in-github",
        "colab_type": "text"
      },
      "source": [
        "<a href=\"https://colab.research.google.com/github/hyoda/BE_SeaTudy-back/blob/main/%EB%82%A8%ED%95%B4_%EC%BA%A0%ED%94%84_2%EA%B8%B0_%EB%94%A5%EB%9F%AC%EB%8B%9D_%EC%8B%A4%EC%8A%B5_.ipynb\" target=\"_parent\"><img src=\"https://colab.research.google.com/assets/colab-badge.svg\" alt=\"Open In Colab\"/></a>"
      ]
    },
    {
      "cell_type": "code",
      "execution_count": 1,
      "metadata": {
        "id": "pmHOhw27lx0E",
        "colab": {
          "base_uri": "https://localhost:8080/"
        },
        "outputId": "97f07e00-2b01-4fab-fef3-00e64fbc7898"
      },
      "outputs": [
        {
          "output_type": "stream",
          "name": "stdout",
          "text": [
            "(6, 1) (6, 1)\n"
          ]
        }
      ],
      "source": [
        "import pandas as pd\n",
        "import tensorflow as tf\n",
        "\n",
        "# 1. 데이터를 준비합니다.\n",
        "레모네이드 = pd.read_csv('https://raw.githubusercontent.com/blackdew/tensorflow1/master/csv/lemonade.csv')\n",
        "독립 = 레모네이드[['온도']]\n",
        "종속 = 레모네이드[['판매량']]\n",
        "print(독립.shape, 종속.shape)"
      ]
    },
    {
      "cell_type": "code",
      "source": [
        "# 2. 모델의 구조를 만듭니다.\n",
        "X = tf.keras.layers.Input(shape=[1])\n",
        "Y = tf.keras.layers.Dense(1)(X)\n",
        "model = tf.keras.models.Model(X, Y)\n",
        "model.compile(loss='mse')\n",
        "\n",
        "# 3. 데이터로 모델을 학습(fit)합니다.\n",
        "model.fit(독립, 종속, epochs=1000)\n",
        "\n",
        "# 4. 모델을 이용합니다.\n",
        "print(model.predict(독립))\n"
      ],
      "metadata": {
        "id": "EpNyK_tZl5pi"
      },
      "execution_count": null,
      "outputs": []
    }
  ]
}